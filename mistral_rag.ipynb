{
  "cells": [
    {
      "cell_type": "code",
      "execution_count": 1,
      "id": "b880d1ed-3db0-45a1-807e-1b47e9ce1320",
      "metadata": {
        "colab": {
          "base_uri": "https://localhost:8080/"
        },
        "id": "b880d1ed-3db0-45a1-807e-1b47e9ce1320",
        "outputId": "5d799f1e-888a-4690-8ce8-1215e6cee7f9"
      },
      "outputs": [
        {
          "output_type": "stream",
          "name": "stdout",
          "text": [
            "Collecting faiss-cpu==1.7.4\n",
            "  Downloading faiss_cpu-1.7.4-cp311-cp311-manylinux_2_17_x86_64.manylinux2014_x86_64.whl.metadata (1.3 kB)\n",
            "Collecting mistralai\n",
            "  Downloading mistralai-1.4.0-py3-none-any.whl.metadata (27 kB)\n",
            "Requirement already satisfied: eval-type-backport>=0.2.0 in /usr/local/lib/python3.11/dist-packages (from mistralai) (0.2.2)\n",
            "Requirement already satisfied: httpx>=0.27.0 in /usr/local/lib/python3.11/dist-packages (from mistralai) (0.28.1)\n",
            "Collecting jsonpath-python>=1.0.6 (from mistralai)\n",
            "  Downloading jsonpath_python-1.0.6-py3-none-any.whl.metadata (12 kB)\n",
            "Requirement already satisfied: pydantic>=2.9.0 in /usr/local/lib/python3.11/dist-packages (from mistralai) (2.10.5)\n",
            "Requirement already satisfied: python-dateutil>=2.8.2 in /usr/local/lib/python3.11/dist-packages (from mistralai) (2.8.2)\n",
            "Collecting typing-inspect>=0.9.0 (from mistralai)\n",
            "  Downloading typing_inspect-0.9.0-py3-none-any.whl.metadata (1.5 kB)\n",
            "Requirement already satisfied: anyio in /usr/local/lib/python3.11/dist-packages (from httpx>=0.27.0->mistralai) (3.7.1)\n",
            "Requirement already satisfied: certifi in /usr/local/lib/python3.11/dist-packages (from httpx>=0.27.0->mistralai) (2024.12.14)\n",
            "Requirement already satisfied: httpcore==1.* in /usr/local/lib/python3.11/dist-packages (from httpx>=0.27.0->mistralai) (1.0.7)\n",
            "Requirement already satisfied: idna in /usr/local/lib/python3.11/dist-packages (from httpx>=0.27.0->mistralai) (3.10)\n",
            "Requirement already satisfied: h11<0.15,>=0.13 in /usr/local/lib/python3.11/dist-packages (from httpcore==1.*->httpx>=0.27.0->mistralai) (0.14.0)\n",
            "Requirement already satisfied: annotated-types>=0.6.0 in /usr/local/lib/python3.11/dist-packages (from pydantic>=2.9.0->mistralai) (0.7.0)\n",
            "Requirement already satisfied: pydantic-core==2.27.2 in /usr/local/lib/python3.11/dist-packages (from pydantic>=2.9.0->mistralai) (2.27.2)\n",
            "Requirement already satisfied: typing-extensions>=4.12.2 in /usr/local/lib/python3.11/dist-packages (from pydantic>=2.9.0->mistralai) (4.12.2)\n",
            "Requirement already satisfied: six>=1.5 in /usr/local/lib/python3.11/dist-packages (from python-dateutil>=2.8.2->mistralai) (1.17.0)\n",
            "Collecting mypy-extensions>=0.3.0 (from typing-inspect>=0.9.0->mistralai)\n",
            "  Downloading mypy_extensions-1.0.0-py3-none-any.whl.metadata (1.1 kB)\n",
            "Requirement already satisfied: sniffio>=1.1 in /usr/local/lib/python3.11/dist-packages (from anyio->httpx>=0.27.0->mistralai) (1.3.1)\n",
            "Downloading faiss_cpu-1.7.4-cp311-cp311-manylinux_2_17_x86_64.manylinux2014_x86_64.whl (17.6 MB)\n",
            "\u001b[2K   \u001b[90m━━━━━━━━━━━━━━━━━━━━━━━━━━━━━━━━━━━━━━━━\u001b[0m \u001b[32m17.6/17.6 MB\u001b[0m \u001b[31m20.3 MB/s\u001b[0m eta \u001b[36m0:00:00\u001b[0m\n",
            "\u001b[?25hDownloading mistralai-1.4.0-py3-none-any.whl (262 kB)\n",
            "\u001b[2K   \u001b[90m━━━━━━━━━━━━━━━━━━━━━━━━━━━━━━━━━━━━━━━━\u001b[0m \u001b[32m262.5/262.5 kB\u001b[0m \u001b[31m14.4 MB/s\u001b[0m eta \u001b[36m0:00:00\u001b[0m\n",
            "\u001b[?25hDownloading jsonpath_python-1.0.6-py3-none-any.whl (7.6 kB)\n",
            "Downloading typing_inspect-0.9.0-py3-none-any.whl (8.8 kB)\n",
            "Downloading mypy_extensions-1.0.0-py3-none-any.whl (4.7 kB)\n",
            "Installing collected packages: faiss-cpu, mypy-extensions, jsonpath-python, typing-inspect, mistralai\n",
            "Successfully installed faiss-cpu-1.7.4 jsonpath-python-1.0.6 mistralai-1.4.0 mypy-extensions-1.0.0 typing-inspect-0.9.0\n"
          ]
        }
      ],
      "source": [
        "! pip install faiss-cpu==1.7.4 mistralai"
      ]
    },
    {
      "cell_type": "code",
      "execution_count": 2,
      "id": "851612c3-ee93-42e3-a1fb-481f89c9410f",
      "metadata": {
        "colab": {
          "base_uri": "https://localhost:8080/"
        },
        "id": "851612c3-ee93-42e3-a1fb-481f89c9410f",
        "outputId": "dad4f3ae-a0c9-4c0b-b390-e36087747753"
      },
      "outputs": [
        {
          "name": "stdout",
          "output_type": "stream",
          "text": [
            "Type your API Key··········\n"
          ]
        }
      ],
      "source": [
        "from mistralai import Mistral\n",
        "import requests\n",
        "import numpy as np\n",
        "import faiss\n",
        "import os\n",
        "from getpass import getpass\n",
        "\n",
        "api_key= getpass(\"Type your API Key\")\n",
        "client = Mistral(api_key=api_key)"
      ]
    },
    {
      "cell_type": "markdown",
      "id": "fe8609d5-9f27-4202-b0be-36db34412998",
      "metadata": {
        "id": "fe8609d5-9f27-4202-b0be-36db34412998"
      },
      "source": [
        "### Get data\n",
        "\n",
        "Загружаю часть лекций Линейной Алгебре из файла lektsii.txt (сами лекции были взяты из https://github.com/HechenHu/Mathematics-Notes/blob/master/Linear%20Algebra/Linear_Algebra.tex)\n"
      ]
    },
    {
      "cell_type": "code",
      "execution_count": 13,
      "id": "f4a2313f-686f-4b08-a553-cf9006af73eb",
      "metadata": {
        "id": "f4a2313f-686f-4b08-a553-cf9006af73eb"
      },
      "outputs": [],
      "source": [
        "with open('lektsii.txt', 'r', encoding='utf-8') as file:\n",
        "    text = file.read()"
      ]
    },
    {
      "cell_type": "code",
      "execution_count": 14,
      "id": "f03f47af-a20b-4122-a114-74b9748ff543",
      "metadata": {
        "colab": {
          "base_uri": "https://localhost:8080/"
        },
        "id": "f03f47af-a20b-4122-a114-74b9748ff543",
        "outputId": "27aa15b1-8bbb-442e-dc41-bee2300a70bf"
      },
      "outputs": [
        {
          "output_type": "execute_result",
          "data": {
            "text/plain": [
              "65319"
            ]
          },
          "metadata": {},
          "execution_count": 14
        }
      ],
      "source": [
        "len(text)"
      ]
    },
    {
      "cell_type": "code",
      "source": [
        "print(text[:2048])"
      ],
      "metadata": {
        "id": "bn_Q6KW-V1Oy",
        "outputId": "ce96cda6-481f-45bb-ed26-4f5c5e3cc422",
        "colab": {
          "base_uri": "https://localhost:8080/"
        }
      },
      "id": "bn_Q6KW-V1Oy",
      "execution_count": 18,
      "outputs": [
        {
          "output_type": "stream",
          "name": "stdout",
          "text": [
            "\n",
            "\\chapter{Vector Spaces}\n",
            "\\section{Definitions}\n",
            "\\begin{Definition}\n",
            "\t\tA \\textit{vector space} over a field $ F $ is a set $ V $ with two closed operations, \\textit{vector addition} or simply \\textit{addition} and \\textit{scalar multiplication}, that satisfy the following axioms:\n",
            "\t\t\\begin{enumerate}\n",
            "\t\t\t\\item Associativity of addition;\n",
            "\t\t\t\\item Commutativity of addition;\n",
            "\t\t\t\\item Identity element of addition;\n",
            "\t\t\t\\item Inverse elements of addition;\n",
            "\t\t\t\\item Compatibility of scalar multiplication with field multiplication;\n",
            "\t\t\t\\begin{equation}\n",
            "\t\t\ta(b \\vec{v})=(ab)\\vec{v} \\nonumber\n",
            "\t\t\t\\end{equation}\n",
            "\t\t\t\\item Identity element of scalar multiplication;\n",
            "\t\t\t\\item Distributivity of scalar multiplication with respect to vector addition;\n",
            "\t\t\t\\item Distributivity of scalar multiplication with respect to field addition.\n",
            "\t\t\\end{enumerate}\n",
            "\\end{Definition}\n",
            "\\begin{Definition}\n",
            "\tA \\textit{subspace} of a vector space $ V $ is a subset $ H $ of $ V $ that has three properties:\n",
            "\t\\begin{itemize}\n",
            "\t\t\\item The zero vector of $ V $ is in $ H $.\n",
            "\t\t\\item $ H $ is closed under vector addition.\n",
            "\t\t\\item $ H $ is closed under multiplication by scalars.\n",
            "\t\\end{itemize}\n",
            "\tIf a subspace only contains the zero vector $ \\vec{0} $, it is called a \\textit{zero subspace} and written as $ \\{\\vec{0} \\} $.\n",
            "\\end{Definition}\t\n",
            "\\begin{Definition}\n",
            "\tGiven vectors $ \\vec{v}_1,\\vec{v}_2,\\cdots,\\vec{v}_n $ in an arbitrary vector space $ V $ and given scalars $ c_1,c_2,\\cdots,c_n $, the vector $ \\vec{y} $ defined by\n",
            "\t\\begin{equation}\n",
            "\t\\vec{y}=c_1 \\vec{v}_1+ \\cdots + c_n \\vec{v}_n \\nonumber\n",
            "\t\\end{equation}\n",
            "\tis called a \\textit{linear combination of $ \\vec{v}_1,\\vec{v}_2,\\cdots,\\vec{v}_n  $ using weights $ c_1,c_2,\\cdots,c_n $}.\n",
            "\\end{Definition}\t\n",
            "It is easy to verify that the set $ W $ of all linear combinations of $ \\vec{v}_1,\\vec{v}_2,\\cdots,\\vec{v}_n  $ is a subspace of $ V $.\\newpara\n",
            "The subspace $ W $ as above is called the subspace \\textit{generated} by $ \\vec{v}_1,\\vec{v}_2,\\cdots,\\vec{v}_n $. If $ W=V $, then we say that $ \\vec{v}_1,\\vec{v}_2,\\cdots,\\vec{v}_n $ \\tex\n"
          ]
        }
      ]
    },
    {
      "cell_type": "markdown",
      "id": "aad1aa61-9e1c-46c8-ae5e-61855df440f9",
      "metadata": {
        "id": "aad1aa61-9e1c-46c8-ae5e-61855df440f9"
      },
      "source": [
        "## Split document into chunks\n",
        "\n",
        "Разделим на блоки, что эффективней доставать информацию."
      ]
    },
    {
      "cell_type": "code",
      "execution_count": 19,
      "id": "8494655e-bd87-49de-8f1d-69ffbc1c256e",
      "metadata": {
        "id": "8494655e-bd87-49de-8f1d-69ffbc1c256e"
      },
      "outputs": [],
      "source": [
        "chunk_size = 2048\n",
        "chunks = [text[i:i + chunk_size] for i in range(0, len(text), chunk_size)]"
      ]
    },
    {
      "cell_type": "code",
      "execution_count": 20,
      "id": "c78c9936-0c1d-471c-b030-6c45639e7238",
      "metadata": {
        "colab": {
          "base_uri": "https://localhost:8080/"
        },
        "id": "c78c9936-0c1d-471c-b030-6c45639e7238",
        "outputId": "2d6db130-d861-4198-cba7-57176477ae3e"
      },
      "outputs": [
        {
          "output_type": "execute_result",
          "data": {
            "text/plain": [
              "32"
            ]
          },
          "metadata": {},
          "execution_count": 20
        }
      ],
      "source": [
        "len(chunks)"
      ]
    },
    {
      "cell_type": "code",
      "execution_count": 21,
      "id": "e77d9805-7a53-4210-9f80-f4de52285588",
      "metadata": {
        "id": "e77d9805-7a53-4210-9f80-f4de52285588"
      },
      "outputs": [],
      "source": [
        "def get_text_embedding(input):\n",
        "    embeddings_batch_response = client.embeddings.create(\n",
        "          model=\"mistral-embed\",\n",
        "          inputs=input\n",
        "      )\n",
        "    return embeddings_batch_response.data[0].embedding"
      ]
    },
    {
      "cell_type": "code",
      "execution_count": 22,
      "id": "46503830-6ad5-493e-a629-152721e2d88e",
      "metadata": {
        "id": "46503830-6ad5-493e-a629-152721e2d88e"
      },
      "outputs": [],
      "source": [
        "import time\n",
        "\n",
        "embedddings_list = []\n",
        "for chunk in chunks:\n",
        "    embedddings_list.append(get_text_embedding(chunk))\n",
        "    time.sleep(2)\n",
        "\n",
        "text_embeddings = np.array(embedddings_list)"
      ]
    },
    {
      "cell_type": "code",
      "execution_count": 23,
      "id": "ca875993-fe6d-42df-811e-a43891cd0350",
      "metadata": {
        "colab": {
          "base_uri": "https://localhost:8080/"
        },
        "id": "ca875993-fe6d-42df-811e-a43891cd0350",
        "outputId": "004e0a10-aa80-4eb5-e2ac-f87c35514a46"
      },
      "outputs": [
        {
          "output_type": "execute_result",
          "data": {
            "text/plain": [
              "(32, 1024)"
            ]
          },
          "metadata": {},
          "execution_count": 23
        }
      ],
      "source": [
        "text_embeddings.shape"
      ]
    },
    {
      "cell_type": "code",
      "execution_count": 24,
      "id": "55396758-c3f3-45b3-b6e7-d4912c0899f2",
      "metadata": {
        "colab": {
          "base_uri": "https://localhost:8080/"
        },
        "id": "55396758-c3f3-45b3-b6e7-d4912c0899f2",
        "outputId": "6a8f6a1f-5f55-4583-9020-2510f8d71963"
      },
      "outputs": [
        {
          "output_type": "execute_result",
          "data": {
            "text/plain": [
              "array([[-0.02005005,  0.02178955,  0.0362854 , ..., -0.00847626,\n",
              "        -0.01838684, -0.01568604],\n",
              "       [-0.02038574,  0.00746155,  0.04003906, ..., -0.02381897,\n",
              "        -0.00625229, -0.0329895 ],\n",
              "       [-0.01922607,  0.02337646,  0.03875732, ..., -0.0027771 ,\n",
              "        -0.03320312, -0.02058411],\n",
              "       ...,\n",
              "       [-0.02261353,  0.02246094,  0.05780029, ..., -0.01501465,\n",
              "        -0.01483917, -0.02059937],\n",
              "       [-0.03170776,  0.02996826,  0.0609436 , ..., -0.01190186,\n",
              "        -0.03738403, -0.00258255],\n",
              "       [-0.03613281,  0.02874756,  0.03875732, ..., -0.0252533 ,\n",
              "        -0.01154327,  0.01005554]])"
            ]
          },
          "metadata": {},
          "execution_count": 24
        }
      ],
      "source": [
        "text_embeddings"
      ]
    },
    {
      "cell_type": "markdown",
      "id": "1cba33c7-9d1d-44d8-a01e-e30f16be1aac",
      "metadata": {
        "id": "1cba33c7-9d1d-44d8-a01e-e30f16be1aac"
      },
      "source": [
        "### Load into a vector database\n"
      ]
    },
    {
      "cell_type": "code",
      "execution_count": 25,
      "id": "6a5b1877-b113-4527-9055-cae9049fef08",
      "metadata": {
        "id": "6a5b1877-b113-4527-9055-cae9049fef08"
      },
      "outputs": [],
      "source": [
        "d = text_embeddings.shape[1]\n",
        "index = faiss.IndexFlatL2(d)\n",
        "index.add(text_embeddings)"
      ]
    },
    {
      "cell_type": "code",
      "source": [
        "def run_mistral(user_message, model=\"mistral-large-latest\"):\n",
        "    messages = [\n",
        "        {\n",
        "            \"role\": \"user\", \"content\": user_message\n",
        "        }\n",
        "    ]\n",
        "    chat_response = client.chat.complete(\n",
        "        model=model,\n",
        "        messages=messages\n",
        "    )\n",
        "    return (chat_response.choices[0].message.content)"
      ],
      "metadata": {
        "id": "H_gf2hmZhFJg"
      },
      "id": "H_gf2hmZhFJg",
      "execution_count": 60,
      "outputs": []
    },
    {
      "cell_type": "markdown",
      "source": [
        "Напишем промпты и посмотрим, что выведет моделька:"
      ],
      "metadata": {
        "id": "r2u8pelThs6h"
      },
      "id": "r2u8pelThs6h"
    },
    {
      "cell_type": "code",
      "source": [
        "questions = [\"Give the definition of the rank of the matrix\", \"Tell me about the eigenvectors\", \"Give the statement The Basis Theorem and explain it\"]\n",
        "\n",
        "for question in questions:\n",
        "    print(\"#######################################\")\n",
        "    question_embeddings = np.array([get_text_embedding(question)])\n",
        "    question_embeddings.shape\n",
        "    D, I = index.search(question_embeddings, k=2)\n",
        "    #print(I)\n",
        "    retrieved_chunk = [chunks[i] for i in I.tolist()[0]]\n",
        "    #print(retrieved_chunk)\n",
        "    prompt = f\"\"\"\n",
        "    Context information is below.\n",
        "    ---------------------\n",
        "    {retrieved_chunk}\n",
        "    ---------------------\n",
        "    Given the context information and not prior knowledge, answer the query.\n",
        "    Query: {question}\n",
        "    Answer:\n",
        "    \"\"\"\n",
        "    time.sleep(2)\n",
        "    print(run_mistral(prompt))\n",
        "    time.sleep(2)"
      ],
      "metadata": {
        "id": "YQMxZcPNeDeE",
        "outputId": "a75d1844-22c6-4673-b381-bee1cd5946a9",
        "colab": {
          "base_uri": "https://localhost:8080/"
        }
      },
      "id": "YQMxZcPNeDeE",
      "execution_count": 61,
      "outputs": [
        {
          "output_type": "stream",
          "name": "stdout",
          "text": [
            "#######################################\n",
            "The rank of a matrix \\( \\matr{A} \\), denoted by \\( \\rank \\matr{A} \\), is the dimension of the column space of \\( \\matr{A} \\).\n",
            "#######################################\n",
            "An eigenvector of an \\( n \\times n \\) matrix \\(\\mathbf{A}\\) is a nonzero vector \\(\\vec{x}\\) such that \\(\\mathbf{A} \\vec{x} = \\lambda \\vec{x}\\) for some scalar \\(\\lambda\\). Here, \\(\\lambda\\) is called an eigenvalue corresponding to the eigenvector \\(\\vec{x}\\).\n",
            "\n",
            "The set of all solutions to the equation \\((\\mathbf{A} - \\lambda \\mathbf{I}) \\vec{x} = \\vec{0}\\) forms a subspace of \\(\\mathbb{R}^n\\) known as the eigenspace of \\(\\mathbf{A}\\) corresponding to the eigenvalue \\(\\lambda\\).\n",
            "\n",
            "Eigenvectors corresponding to distinct eigenvalues of a matrix are linearly independent. This means that if \\(\\vec{v}_1, \\vec{v}_2, \\ldots, \\vec{v}_r\\) are eigenvectors corresponding to distinct eigenvalues \\(\\lambda_1, \\lambda_2, \\ldots, \\lambda_r\\) of an \\(n \\times n\\) matrix \\(\\mathbf{A}\\), then the set \\(\\{\\vec{v}_1, \\vec{v}_2, \\ldots, \\vec{v}_r\\}\\) is linearly independent.\n",
            "\n",
            "The characteristic equation \\(\\det(\\mathbf{A} - \\lambda \\mathbf{I}) = 0\\) is used to find the eigenvalues of \\(\\mathbf{A}\\). If \\(\\mathbf{A}\\) is an \\(n \\times n\\) matrix, then \\(\\det(\\mathbf{A} - \\lambda \\mathbf{I})\\) is a polynomial of degree \\(n\\) called the characteristic polynomial of \\(\\mathbf{A}\\).\n",
            "\n",
            "Eigenvectors and eigenvalues play a crucial role in various applications, including stability analysis, vibrations, electrical engineering, and quantum mechanics.\n",
            "#######################################\n",
            "**The Basis Theorem:**\n",
            "Let \\( H \\) be a \\( p \\)-dimensional subspace of \\( \\mathbb{R}^n \\). Any linearly independent set in \\( H \\) with \\( p \\) elements is a basis for \\( H \\). Furthermore, any spanning set for \\( H \\) with \\( p \\) elements is also a basis for \\( H \\).\n",
            "\n",
            "**Explanation:**\n",
            "The Basis Theorem provides two key insights about bases in a vector space:\n",
            "\n",
            "1. **Linearly Independent Set**: If you have a set of \\( p \\) linearly independent vectors in a \\( p \\)-dimensional subspace \\( H \\), this set will span \\( H \\). This means that any vector in \\( H \\) can be written as a linear combination of these \\( p \\) vectors. Therefore, this set is a basis for \\( H \\).\n",
            "\n",
            "2. **Spanning Set**: If you have a set of \\( p \\) vectors that span a \\( p \\)-dimensional subspace \\( H \\), this set is linearly independent. This means that no vector in this set can be written as a linear combination of the others. Therefore, this set is also a basis for \\( H \\).\n",
            "\n",
            "In essence, the theorem tells us that in a \\( p \\)-dimensional subspace, any set of \\( p \\) linearly independent vectors or any set of \\( p \\) vectors that span the subspace will serve as a basis. This is fundamental in linear algebra for understanding the structure and properties of vector spaces and their bases.\n"
          ]
        }
      ]
    }
  ],
  "metadata": {
    "colab": {
      "provenance": [],
      "gpuType": "T4"
    },
    "jupytext": {
      "formats": "ipynb,py:light"
    },
    "kernelspec": {
      "display_name": "Python 3",
      "name": "python3"
    },
    "language_info": {
      "codemirror_mode": {
        "name": "ipython",
        "version": 3
      },
      "file_extension": ".py",
      "mimetype": "text/x-python",
      "name": "python",
      "nbconvert_exporter": "python",
      "pygments_lexer": "ipython3",
      "version": "3.10.0"
    },
    "accelerator": "GPU"
  },
  "nbformat": 4,
  "nbformat_minor": 5
}